{
 "cells": [
  {
   "cell_type": "code",
   "execution_count": 1,
   "metadata": {},
   "outputs": [],
   "source": [
    "import pandas as pd \n",
    "import numpy as np "
   ]
  },
  {
   "cell_type": "markdown",
   "metadata": {},
   "source": [
    "# Load and preprocess train data"
   ]
  },
  {
   "cell_type": "code",
   "execution_count": 2,
   "metadata": {},
   "outputs": [],
   "source": [
    "df = pd.read_csv('securitytextsdetection/train.csv')"
   ]
  },
  {
   "cell_type": "code",
   "execution_count": 3,
   "metadata": {},
   "outputs": [
    {
     "data": {
      "text/html": [
       "<div>\n",
       "<style scoped>\n",
       "    .dataframe tbody tr th:only-of-type {\n",
       "        vertical-align: middle;\n",
       "    }\n",
       "\n",
       "    .dataframe tbody tr th {\n",
       "        vertical-align: top;\n",
       "    }\n",
       "\n",
       "    .dataframe thead th {\n",
       "        text-align: right;\n",
       "    }\n",
       "</style>\n",
       "<table border=\"1\" class=\"dataframe\">\n",
       "  <thead>\n",
       "    <tr style=\"text-align: right;\">\n",
       "      <th></th>\n",
       "      <th>example_id</th>\n",
       "      <th>text</th>\n",
       "      <th>label</th>\n",
       "    </tr>\n",
       "  </thead>\n",
       "  <tbody>\n",
       "    <tr>\n",
       "      <th>0</th>\n",
       "      <td>140d03eabb7cb5c2558605eb8336689c</td>\n",
       "      <td>brandpost best of both worlds hybrid onsite an...</td>\n",
       "      <td>0</td>\n",
       "    </tr>\n",
       "    <tr>\n",
       "      <th>1</th>\n",
       "      <td>f7f1f906c9e2b76e63020f8794516185</td>\n",
       "      <td>$mention$ they shall in all cases except treas...</td>\n",
       "      <td>0</td>\n",
       "    </tr>\n",
       "    <tr>\n",
       "      <th>2</th>\n",
       "      <td>39f0b2ebc12e008a7a43ec318d0c3874</td>\n",
       "      <td>lifelock offers to protect you from the equifa...</td>\n",
       "      <td>0</td>\n",
       "    </tr>\n",
       "    <tr>\n",
       "      <th>3</th>\n",
       "      <td>ad4e57c69f00548253cb6d47b15c3ce4</td>\n",
       "      <td>skimmer adware spent two months in google play...</td>\n",
       "      <td>1</td>\n",
       "    </tr>\n",
       "    <tr>\n",
       "      <th>4</th>\n",
       "      <td>236bfe8f2f145dbcf17be122546946db</td>\n",
       "      <td>just want to love and be loved</td>\n",
       "      <td>0</td>\n",
       "    </tr>\n",
       "    <tr>\n",
       "      <th>5</th>\n",
       "      <td>f9f0419dd6ec37b9f72a8a8292a37d0b</td>\n",
       "      <td>cyber attack on barts nhs trust eloited zeroda...</td>\n",
       "      <td>1</td>\n",
       "    </tr>\n",
       "    <tr>\n",
       "      <th>6</th>\n",
       "      <td>3e23b538a07b92f2e27b6964dd30242b</td>\n",
       "      <td>docusigns customer email database accessed by ...</td>\n",
       "      <td>1</td>\n",
       "    </tr>\n",
       "    <tr>\n",
       "      <th>7</th>\n",
       "      <td>991a2ba0398b4b4bc63201141a401207</td>\n",
       "      <td>ddos real threat that big data can help combat...</td>\n",
       "      <td>1</td>\n",
       "    </tr>\n",
       "    <tr>\n",
       "      <th>8</th>\n",
       "      <td>ee2971e296b39717c23e070ef08f64b3</td>\n",
       "      <td>cyberattack glossary thaw are malware phassach...</td>\n",
       "      <td>0</td>\n",
       "    </tr>\n",
       "    <tr>\n",
       "      <th>9</th>\n",
       "      <td>a1c2ec94210674309d9896540f6894c8</td>\n",
       "      <td>malware is not going away trust your network s...</td>\n",
       "      <td>0</td>\n",
       "    </tr>\n",
       "    <tr>\n",
       "      <th>10</th>\n",
       "      <td>5025adba95c01e6fa8879b7bd137965a</td>\n",
       "      <td>New Mac #malware on the loose: What you need t...</td>\n",
       "      <td>1</td>\n",
       "    </tr>\n",
       "    <tr>\n",
       "      <th>11</th>\n",
       "      <td>f0c244f5c81f16ee0528865ebae6506b</td>\n",
       "      <td>fbi investigating reported data breach affecti...</td>\n",
       "      <td>1</td>\n",
       "    </tr>\n",
       "    <tr>\n",
       "      <th>12</th>\n",
       "      <td>66f6abe90e9f9b5a243ee530d7b9908b</td>\n",
       "      <td>great article on phishing what it is how to av...</td>\n",
       "      <td>0</td>\n",
       "    </tr>\n",
       "    <tr>\n",
       "      <th>13</th>\n",
       "      <td>3f381f1ff36c0f589362d8635ec08ada</td>\n",
       "      <td>the equifax breach is every day $url$</td>\n",
       "      <td>0</td>\n",
       "    </tr>\n",
       "    <tr>\n",
       "      <th>14</th>\n",
       "      <td>70faa74078c091f25854054e38ae3fa4</td>\n",
       "      <td>here s what it costs to freeze your credit aft...</td>\n",
       "      <td>0</td>\n",
       "    </tr>\n",
       "    <tr>\n",
       "      <th>15</th>\n",
       "      <td>7a8a0ce97271d502323a0b4a37d567d4</td>\n",
       "      <td>brianhonan beware scammers phishing for disast...</td>\n",
       "      <td>1</td>\n",
       "    </tr>\n",
       "    <tr>\n",
       "      <th>16</th>\n",
       "      <td>467ab3478b0c13fec01f137526d6404a</td>\n",
       "      <td>$mention$ fucking ddos are you in</td>\n",
       "      <td>0</td>\n",
       "    </tr>\n",
       "    <tr>\n",
       "      <th>17</th>\n",
       "      <td>982b41759ffe22a31bfa8eadf488d207</td>\n",
       "      <td>nexus critical vulnerability discovered and re...</td>\n",
       "      <td>1</td>\n",
       "    </tr>\n",
       "    <tr>\n",
       "      <th>18</th>\n",
       "      <td>889a85906e4e9ab738bf3bc9637fc703</td>\n",
       "      <td>the register coppers persistently breach data ...</td>\n",
       "      <td>1</td>\n",
       "    </tr>\n",
       "    <tr>\n",
       "      <th>19</th>\n",
       "      <td>3319dfdbe36496ba1e6a4cd0613bec9c</td>\n",
       "      <td>our industrial relations laws are in breach of...</td>\n",
       "      <td>0</td>\n",
       "    </tr>\n",
       "  </tbody>\n",
       "</table>\n",
       "</div>"
      ],
      "text/plain": [
       "                          example_id  \\\n",
       "0   140d03eabb7cb5c2558605eb8336689c   \n",
       "1   f7f1f906c9e2b76e63020f8794516185   \n",
       "2   39f0b2ebc12e008a7a43ec318d0c3874   \n",
       "3   ad4e57c69f00548253cb6d47b15c3ce4   \n",
       "4   236bfe8f2f145dbcf17be122546946db   \n",
       "5   f9f0419dd6ec37b9f72a8a8292a37d0b   \n",
       "6   3e23b538a07b92f2e27b6964dd30242b   \n",
       "7   991a2ba0398b4b4bc63201141a401207   \n",
       "8   ee2971e296b39717c23e070ef08f64b3   \n",
       "9   a1c2ec94210674309d9896540f6894c8   \n",
       "10  5025adba95c01e6fa8879b7bd137965a   \n",
       "11  f0c244f5c81f16ee0528865ebae6506b   \n",
       "12  66f6abe90e9f9b5a243ee530d7b9908b   \n",
       "13  3f381f1ff36c0f589362d8635ec08ada   \n",
       "14  70faa74078c091f25854054e38ae3fa4   \n",
       "15  7a8a0ce97271d502323a0b4a37d567d4   \n",
       "16  467ab3478b0c13fec01f137526d6404a   \n",
       "17  982b41759ffe22a31bfa8eadf488d207   \n",
       "18  889a85906e4e9ab738bf3bc9637fc703   \n",
       "19  3319dfdbe36496ba1e6a4cd0613bec9c   \n",
       "\n",
       "                                                 text  label  \n",
       "0   brandpost best of both worlds hybrid onsite an...      0  \n",
       "1   $mention$ they shall in all cases except treas...      0  \n",
       "2   lifelock offers to protect you from the equifa...      0  \n",
       "3   skimmer adware spent two months in google play...      1  \n",
       "4                      just want to love and be loved      0  \n",
       "5   cyber attack on barts nhs trust eloited zeroda...      1  \n",
       "6   docusigns customer email database accessed by ...      1  \n",
       "7   ddos real threat that big data can help combat...      1  \n",
       "8   cyberattack glossary thaw are malware phassach...      0  \n",
       "9   malware is not going away trust your network s...      0  \n",
       "10  New Mac #malware on the loose: What you need t...      1  \n",
       "11  fbi investigating reported data breach affecti...      1  \n",
       "12  great article on phishing what it is how to av...      0  \n",
       "13              the equifax breach is every day $url$      0  \n",
       "14  here s what it costs to freeze your credit aft...      0  \n",
       "15  brianhonan beware scammers phishing for disast...      1  \n",
       "16                  $mention$ fucking ddos are you in      0  \n",
       "17  nexus critical vulnerability discovered and re...      1  \n",
       "18  the register coppers persistently breach data ...      1  \n",
       "19  our industrial relations laws are in breach of...      0  "
      ]
     },
     "execution_count": 3,
     "metadata": {},
     "output_type": "execute_result"
    }
   ],
   "source": [
    "df[:20]"
   ]
  },
  {
   "cell_type": "code",
   "execution_count": 4,
   "metadata": {},
   "outputs": [
    {
     "data": {
      "text/plain": [
       "0    708\n",
       "1    481\n",
       "Name: label, dtype: int64"
      ]
     },
     "execution_count": 4,
     "metadata": {},
     "output_type": "execute_result"
    }
   ],
   "source": [
    "df.label.value_counts()"
   ]
  },
  {
   "cell_type": "code",
   "execution_count": 5,
   "metadata": {},
   "outputs": [],
   "source": [
    "from string import punctuation\n",
    "\n",
    "from nltk.tokenize import word_tokenize\n",
    "from nltk.corpus import stopwords\n",
    "from nltk.stem import WordNetLemmatizer \n",
    "#from replacers import\n",
    "lemmatizer = WordNetLemmatizer() \n",
    "stop_words = set(stopwords.words('english'))"
   ]
  },
  {
   "cell_type": "code",
   "execution_count": 6,
   "metadata": {},
   "outputs": [],
   "source": [
    "def preprocess_text(tokenizer, lemmatizer, stop_words, punctuation, text): \n",
    "    tokens = tokenizer(text.lower())\n",
    "    lemmas = [lemmatizer.lemmatize(token) for token in tokens]\n",
    "    return [token for token in lemmas if token not in stop_words and token not in punctuation]\n",
    "\n",
    "df['cleaned'] = df.text.apply(lambda x: preprocess_text(word_tokenize, lemmatizer, stop_words, punctuation, x))"
   ]
  },
  {
   "cell_type": "code",
   "execution_count": 7,
   "metadata": {},
   "outputs": [
    {
     "data": {
      "text/html": [
       "<div>\n",
       "<style scoped>\n",
       "    .dataframe tbody tr th:only-of-type {\n",
       "        vertical-align: middle;\n",
       "    }\n",
       "\n",
       "    .dataframe tbody tr th {\n",
       "        vertical-align: top;\n",
       "    }\n",
       "\n",
       "    .dataframe thead th {\n",
       "        text-align: right;\n",
       "    }\n",
       "</style>\n",
       "<table border=\"1\" class=\"dataframe\">\n",
       "  <thead>\n",
       "    <tr style=\"text-align: right;\">\n",
       "      <th></th>\n",
       "      <th>example_id</th>\n",
       "      <th>text</th>\n",
       "      <th>label</th>\n",
       "      <th>cleaned</th>\n",
       "    </tr>\n",
       "  </thead>\n",
       "  <tbody>\n",
       "    <tr>\n",
       "      <th>0</th>\n",
       "      <td>140d03eabb7cb5c2558605eb8336689c</td>\n",
       "      <td>brandpost best of both worlds hybrid onsite an...</td>\n",
       "      <td>0</td>\n",
       "      <td>[brandpost, best, world, hybrid, onsite, cloud...</td>\n",
       "    </tr>\n",
       "    <tr>\n",
       "      <th>1</th>\n",
       "      <td>f7f1f906c9e2b76e63020f8794516185</td>\n",
       "      <td>$mention$ they shall in all cases except treas...</td>\n",
       "      <td>0</td>\n",
       "      <td>[mention, shall, case, except, treason, felony...</td>\n",
       "    </tr>\n",
       "    <tr>\n",
       "      <th>2</th>\n",
       "      <td>39f0b2ebc12e008a7a43ec318d0c3874</td>\n",
       "      <td>lifelock offers to protect you from the equifa...</td>\n",
       "      <td>0</td>\n",
       "      <td>[lifelock, offer, protect, equifax, breach, se...</td>\n",
       "    </tr>\n",
       "    <tr>\n",
       "      <th>3</th>\n",
       "      <td>ad4e57c69f00548253cb6d47b15c3ce4</td>\n",
       "      <td>skimmer adware spent two months in google play...</td>\n",
       "      <td>1</td>\n",
       "      <td>[skimmer, adware, spent, two, month, google, p...</td>\n",
       "    </tr>\n",
       "    <tr>\n",
       "      <th>4</th>\n",
       "      <td>236bfe8f2f145dbcf17be122546946db</td>\n",
       "      <td>just want to love and be loved</td>\n",
       "      <td>0</td>\n",
       "      <td>[want, love, loved]</td>\n",
       "    </tr>\n",
       "  </tbody>\n",
       "</table>\n",
       "</div>"
      ],
      "text/plain": [
       "                         example_id  \\\n",
       "0  140d03eabb7cb5c2558605eb8336689c   \n",
       "1  f7f1f906c9e2b76e63020f8794516185   \n",
       "2  39f0b2ebc12e008a7a43ec318d0c3874   \n",
       "3  ad4e57c69f00548253cb6d47b15c3ce4   \n",
       "4  236bfe8f2f145dbcf17be122546946db   \n",
       "\n",
       "                                                text  label  \\\n",
       "0  brandpost best of both worlds hybrid onsite an...      0   \n",
       "1  $mention$ they shall in all cases except treas...      0   \n",
       "2  lifelock offers to protect you from the equifa...      0   \n",
       "3  skimmer adware spent two months in google play...      1   \n",
       "4                     just want to love and be loved      0   \n",
       "\n",
       "                                             cleaned  \n",
       "0  [brandpost, best, world, hybrid, onsite, cloud...  \n",
       "1  [mention, shall, case, except, treason, felony...  \n",
       "2  [lifelock, offer, protect, equifax, breach, se...  \n",
       "3  [skimmer, adware, spent, two, month, google, p...  \n",
       "4                                [want, love, loved]  "
      ]
     },
     "execution_count": 7,
     "metadata": {},
     "output_type": "execute_result"
    }
   ],
   "source": [
    "df.head()"
   ]
  },
  {
   "cell_type": "code",
   "execution_count": 8,
   "metadata": {},
   "outputs": [],
   "source": [
    "def flat_nested(nested):\n",
    "    flatten = []\n",
    "    for item in nested:\n",
    "        if isinstance(item, list):\n",
    "            flatten.extend(item)\n",
    "        else:\n",
    "            flatten.append(item)\n",
    "    return flatten"
   ]
  },
  {
   "cell_type": "code",
   "execution_count": 9,
   "metadata": {},
   "outputs": [],
   "source": [
    "from collections import Counter, defaultdict \n",
    "\n",
    "cnt_vocab1 = Counter(flat_nested(df.cleaned.tolist()))"
   ]
  },
  {
   "cell_type": "code",
   "execution_count": 10,
   "metadata": {},
   "outputs": [
    {
     "data": {
      "text/plain": [
       "4145"
      ]
     },
     "execution_count": 10,
     "metadata": {},
     "output_type": "execute_result"
    }
   ],
   "source": [
    "len(cnt_vocab1)"
   ]
  },
  {
   "cell_type": "markdown",
   "metadata": {},
   "source": [
    "# Load and preprocess test data"
   ]
  },
  {
   "cell_type": "code",
   "execution_count": 12,
   "metadata": {},
   "outputs": [],
   "source": [
    "df_test = pd.read_csv('securitytextsdetection/test.csv')"
   ]
  },
  {
   "cell_type": "code",
   "execution_count": 13,
   "metadata": {},
   "outputs": [
    {
     "data": {
      "text/html": [
       "<div>\n",
       "<style scoped>\n",
       "    .dataframe tbody tr th:only-of-type {\n",
       "        vertical-align: middle;\n",
       "    }\n",
       "\n",
       "    .dataframe tbody tr th {\n",
       "        vertical-align: top;\n",
       "    }\n",
       "\n",
       "    .dataframe thead th {\n",
       "        text-align: right;\n",
       "    }\n",
       "</style>\n",
       "<table border=\"1\" class=\"dataframe\">\n",
       "  <thead>\n",
       "    <tr style=\"text-align: right;\">\n",
       "      <th></th>\n",
       "      <th>example_id</th>\n",
       "      <th>text</th>\n",
       "    </tr>\n",
       "  </thead>\n",
       "  <tbody>\n",
       "    <tr>\n",
       "      <th>0</th>\n",
       "      <td>24bf52cc84b75bce8ee9c0cdd0b5117f</td>\n",
       "      <td>phishing heads to the cloud forbes $url$ cloud</td>\n",
       "    </tr>\n",
       "    <tr>\n",
       "      <th>1</th>\n",
       "      <td>708cc462eca0c274bcff304bbc4396f8</td>\n",
       "      <td>Sports Direct Failed to Tell Staff of Data Bre...</td>\n",
       "    </tr>\n",
       "    <tr>\n",
       "      <th>2</th>\n",
       "      <td>c5da1d371af9525d2fc2174311e3dae4</td>\n",
       "      <td>understanding vulnerability through humanright...</td>\n",
       "    </tr>\n",
       "    <tr>\n",
       "      <th>3</th>\n",
       "      <td>844f5f5be464a0600891ac6b8c1a1afd</td>\n",
       "      <td>cussword manager onelogin hit by data breach $...</td>\n",
       "    </tr>\n",
       "    <tr>\n",
       "      <th>4</th>\n",
       "      <td>97daba48c36db68f3e84ebcbf8952aa2</td>\n",
       "      <td>vuln multiple flexense products cve20177310 bu...</td>\n",
       "    </tr>\n",
       "  </tbody>\n",
       "</table>\n",
       "</div>"
      ],
      "text/plain": [
       "                         example_id  \\\n",
       "0  24bf52cc84b75bce8ee9c0cdd0b5117f   \n",
       "1  708cc462eca0c274bcff304bbc4396f8   \n",
       "2  c5da1d371af9525d2fc2174311e3dae4   \n",
       "3  844f5f5be464a0600891ac6b8c1a1afd   \n",
       "4  97daba48c36db68f3e84ebcbf8952aa2   \n",
       "\n",
       "                                                text  \n",
       "0     phishing heads to the cloud forbes $url$ cloud  \n",
       "1  Sports Direct Failed to Tell Staff of Data Bre...  \n",
       "2  understanding vulnerability through humanright...  \n",
       "3  cussword manager onelogin hit by data breach $...  \n",
       "4  vuln multiple flexense products cve20177310 bu...  "
      ]
     },
     "execution_count": 13,
     "metadata": {},
     "output_type": "execute_result"
    }
   ],
   "source": [
    "df_test.head()"
   ]
  },
  {
   "cell_type": "code",
   "execution_count": 14,
   "metadata": {},
   "outputs": [],
   "source": [
    "df_test['cleaned'] = df_test.text.apply(lambda x: preprocess_text(word_tokenize, lemmatizer, stop_words, punctuation, x))"
   ]
  },
  {
   "cell_type": "code",
   "execution_count": 15,
   "metadata": {},
   "outputs": [
    {
     "data": {
      "text/html": [
       "<div>\n",
       "<style scoped>\n",
       "    .dataframe tbody tr th:only-of-type {\n",
       "        vertical-align: middle;\n",
       "    }\n",
       "\n",
       "    .dataframe tbody tr th {\n",
       "        vertical-align: top;\n",
       "    }\n",
       "\n",
       "    .dataframe thead th {\n",
       "        text-align: right;\n",
       "    }\n",
       "</style>\n",
       "<table border=\"1\" class=\"dataframe\">\n",
       "  <thead>\n",
       "    <tr style=\"text-align: right;\">\n",
       "      <th></th>\n",
       "      <th>example_id</th>\n",
       "      <th>text</th>\n",
       "      <th>cleaned</th>\n",
       "    </tr>\n",
       "  </thead>\n",
       "  <tbody>\n",
       "    <tr>\n",
       "      <th>0</th>\n",
       "      <td>24bf52cc84b75bce8ee9c0cdd0b5117f</td>\n",
       "      <td>phishing heads to the cloud forbes $url$ cloud</td>\n",
       "      <td>[phishing, head, cloud, forbes, url, cloud]</td>\n",
       "    </tr>\n",
       "    <tr>\n",
       "      <th>1</th>\n",
       "      <td>708cc462eca0c274bcff304bbc4396f8</td>\n",
       "      <td>Sports Direct Failed to Tell Staff of Data Bre...</td>\n",
       "      <td>[sport, direct, failed, tell, staff, data, bre...</td>\n",
       "    </tr>\n",
       "    <tr>\n",
       "      <th>2</th>\n",
       "      <td>c5da1d371af9525d2fc2174311e3dae4</td>\n",
       "      <td>understanding vulnerability through humanright...</td>\n",
       "      <td>[understanding, vulnerability, humanrights, me...</td>\n",
       "    </tr>\n",
       "    <tr>\n",
       "      <th>3</th>\n",
       "      <td>844f5f5be464a0600891ac6b8c1a1afd</td>\n",
       "      <td>cussword manager onelogin hit by data breach $...</td>\n",
       "      <td>[cussword, manager, onelogin, hit, data, breac...</td>\n",
       "    </tr>\n",
       "    <tr>\n",
       "      <th>4</th>\n",
       "      <td>97daba48c36db68f3e84ebcbf8952aa2</td>\n",
       "      <td>vuln multiple flexense products cve20177310 bu...</td>\n",
       "      <td>[vuln, multiple, flexense, product, cve2017731...</td>\n",
       "    </tr>\n",
       "  </tbody>\n",
       "</table>\n",
       "</div>"
      ],
      "text/plain": [
       "                         example_id  \\\n",
       "0  24bf52cc84b75bce8ee9c0cdd0b5117f   \n",
       "1  708cc462eca0c274bcff304bbc4396f8   \n",
       "2  c5da1d371af9525d2fc2174311e3dae4   \n",
       "3  844f5f5be464a0600891ac6b8c1a1afd   \n",
       "4  97daba48c36db68f3e84ebcbf8952aa2   \n",
       "\n",
       "                                                text  \\\n",
       "0     phishing heads to the cloud forbes $url$ cloud   \n",
       "1  Sports Direct Failed to Tell Staff of Data Bre...   \n",
       "2  understanding vulnerability through humanright...   \n",
       "3  cussword manager onelogin hit by data breach $...   \n",
       "4  vuln multiple flexense products cve20177310 bu...   \n",
       "\n",
       "                                             cleaned  \n",
       "0        [phishing, head, cloud, forbes, url, cloud]  \n",
       "1  [sport, direct, failed, tell, staff, data, bre...  \n",
       "2  [understanding, vulnerability, humanrights, me...  \n",
       "3  [cussword, manager, onelogin, hit, data, breac...  \n",
       "4  [vuln, multiple, flexense, product, cve2017731...  "
      ]
     },
     "execution_count": 15,
     "metadata": {},
     "output_type": "execute_result"
    }
   ],
   "source": [
    "df_test.head()"
   ]
  },
  {
   "cell_type": "code",
   "execution_count": 16,
   "metadata": {},
   "outputs": [
    {
     "data": {
      "text/plain": [
       "(786, 3)"
      ]
     },
     "execution_count": 16,
     "metadata": {},
     "output_type": "execute_result"
    }
   ],
   "source": [
    "df_test.shape"
   ]
  },
  {
   "cell_type": "code",
   "execution_count": 17,
   "metadata": {},
   "outputs": [],
   "source": [
    "cnt_vocab2 = Counter(flat_nested(df_test.cleaned.tolist()))"
   ]
  },
  {
   "cell_type": "code",
   "execution_count": 18,
   "metadata": {},
   "outputs": [
    {
     "data": {
      "text/plain": [
       "3162"
      ]
     },
     "execution_count": 18,
     "metadata": {},
     "output_type": "execute_result"
    }
   ],
   "source": [
    "len(cnt_vocab2)"
   ]
  },
  {
   "cell_type": "markdown",
   "metadata": {},
   "source": [
    "# Train model"
   ]
  },
  {
   "cell_type": "code",
   "execution_count": 19,
   "metadata": {},
   "outputs": [],
   "source": [
    "cnt_vocab_all = {**cnt_vocab1, **cnt_vocab2}\n",
    "vocabulary = set(cnt_vocab_all)"
   ]
  },
  {
   "cell_type": "code",
   "execution_count": 20,
   "metadata": {},
   "outputs": [
    {
     "data": {
      "text/plain": [
       "5752"
      ]
     },
     "execution_count": 20,
     "metadata": {},
     "output_type": "execute_result"
    }
   ],
   "source": [
    "len(vocabulary)"
   ]
  },
  {
   "cell_type": "code",
   "execution_count": 21,
   "metadata": {},
   "outputs": [],
   "source": [
    "from sklearn.feature_extraction.text import TfidfVectorizer\n",
    "\n",
    "corpus = df.cleaned.apply(lambda x: ' '.join(x))\n",
    "y = df.label\n",
    "\n",
    "vectorizer = TfidfVectorizer(vocabulary = vocabulary)\n",
    "X = vectorizer.fit_transform(corpus)"
   ]
  },
  {
   "cell_type": "code",
   "execution_count": 22,
   "metadata": {},
   "outputs": [],
   "source": [
    "from sklearn.linear_model import LogisticRegression\n",
    "clf = LogisticRegression(random_state=0, solver = 'lbfgs', multi_class = 'multinomial').fit(X, y)"
   ]
  },
  {
   "cell_type": "code",
   "execution_count": 23,
   "metadata": {},
   "outputs": [
    {
     "data": {
      "text/plain": [
       "0.9613120269133726"
      ]
     },
     "execution_count": 23,
     "metadata": {},
     "output_type": "execute_result"
    }
   ],
   "source": [
    "clf.score(X, y)"
   ]
  },
  {
   "cell_type": "markdown",
   "metadata": {},
   "source": [
    "# sample_submission"
   ]
  },
  {
   "cell_type": "code",
   "execution_count": 24,
   "metadata": {},
   "outputs": [],
   "source": [
    "corpus_test = df_test.cleaned.apply(lambda x: ' '.join(x))"
   ]
  },
  {
   "cell_type": "code",
   "execution_count": 25,
   "metadata": {},
   "outputs": [],
   "source": [
    "X_test = vectorizer.fit_transform(corpus_test)"
   ]
  },
  {
   "cell_type": "code",
   "execution_count": 26,
   "metadata": {},
   "outputs": [
    {
     "data": {
      "text/plain": [
       "<786x5752 sparse matrix of type '<class 'numpy.float64'>'\n",
       "\twith 7944 stored elements in Compressed Sparse Row format>"
      ]
     },
     "execution_count": 26,
     "metadata": {},
     "output_type": "execute_result"
    }
   ],
   "source": [
    "X_test"
   ]
  },
  {
   "cell_type": "code",
   "execution_count": 27,
   "metadata": {},
   "outputs": [],
   "source": [
    "label = clf.predict(X_test)"
   ]
  },
  {
   "cell_type": "code",
   "execution_count": 28,
   "metadata": {},
   "outputs": [],
   "source": [
    "def Tobinary(arr):\n",
    "    result = []\n",
    "    for i in arr:\n",
    "        if i:\n",
    "            result.append(True)\n",
    "        else:\n",
    "            result.append(False)\n",
    "    return result"
   ]
  },
  {
   "cell_type": "code",
   "execution_count": 29,
   "metadata": {},
   "outputs": [],
   "source": [
    "label = Tobinary(label)"
   ]
  },
  {
   "cell_type": "code",
   "execution_count": 30,
   "metadata": {},
   "outputs": [],
   "source": [
    "sample_submission = pd.DataFrame({'example_id' : df_test['example_id'].tolist(), 'label' : label})"
   ]
  },
  {
   "cell_type": "code",
   "execution_count": 31,
   "metadata": {},
   "outputs": [
    {
     "data": {
      "text/html": [
       "<div>\n",
       "<style scoped>\n",
       "    .dataframe tbody tr th:only-of-type {\n",
       "        vertical-align: middle;\n",
       "    }\n",
       "\n",
       "    .dataframe tbody tr th {\n",
       "        vertical-align: top;\n",
       "    }\n",
       "\n",
       "    .dataframe thead th {\n",
       "        text-align: right;\n",
       "    }\n",
       "</style>\n",
       "<table border=\"1\" class=\"dataframe\">\n",
       "  <thead>\n",
       "    <tr style=\"text-align: right;\">\n",
       "      <th></th>\n",
       "      <th>example_id</th>\n",
       "      <th>label</th>\n",
       "    </tr>\n",
       "  </thead>\n",
       "  <tbody>\n",
       "    <tr>\n",
       "      <th>0</th>\n",
       "      <td>24bf52cc84b75bce8ee9c0cdd0b5117f</td>\n",
       "      <td>False</td>\n",
       "    </tr>\n",
       "    <tr>\n",
       "      <th>1</th>\n",
       "      <td>708cc462eca0c274bcff304bbc4396f8</td>\n",
       "      <td>False</td>\n",
       "    </tr>\n",
       "    <tr>\n",
       "      <th>2</th>\n",
       "      <td>c5da1d371af9525d2fc2174311e3dae4</td>\n",
       "      <td>False</td>\n",
       "    </tr>\n",
       "    <tr>\n",
       "      <th>3</th>\n",
       "      <td>844f5f5be464a0600891ac6b8c1a1afd</td>\n",
       "      <td>True</td>\n",
       "    </tr>\n",
       "    <tr>\n",
       "      <th>4</th>\n",
       "      <td>97daba48c36db68f3e84ebcbf8952aa2</td>\n",
       "      <td>True</td>\n",
       "    </tr>\n",
       "    <tr>\n",
       "      <th>...</th>\n",
       "      <td>...</td>\n",
       "      <td>...</td>\n",
       "    </tr>\n",
       "    <tr>\n",
       "      <th>781</th>\n",
       "      <td>d88c14f3513eeac07d96bf2247e590da</td>\n",
       "      <td>False</td>\n",
       "    </tr>\n",
       "    <tr>\n",
       "      <th>782</th>\n",
       "      <td>d86ba8e778366f29d751212248a8b117</td>\n",
       "      <td>False</td>\n",
       "    </tr>\n",
       "    <tr>\n",
       "      <th>783</th>\n",
       "      <td>77d311fd2f0fe6e7120e92efc00a3dc1</td>\n",
       "      <td>False</td>\n",
       "    </tr>\n",
       "    <tr>\n",
       "      <th>784</th>\n",
       "      <td>d1e6b79eed2ed19f35c2bbc3bf3c7940</td>\n",
       "      <td>True</td>\n",
       "    </tr>\n",
       "    <tr>\n",
       "      <th>785</th>\n",
       "      <td>39f1960e9fa6d6dee905f7380922d29d</td>\n",
       "      <td>False</td>\n",
       "    </tr>\n",
       "  </tbody>\n",
       "</table>\n",
       "<p>786 rows × 2 columns</p>\n",
       "</div>"
      ],
      "text/plain": [
       "                           example_id  label\n",
       "0    24bf52cc84b75bce8ee9c0cdd0b5117f  False\n",
       "1    708cc462eca0c274bcff304bbc4396f8  False\n",
       "2    c5da1d371af9525d2fc2174311e3dae4  False\n",
       "3    844f5f5be464a0600891ac6b8c1a1afd   True\n",
       "4    97daba48c36db68f3e84ebcbf8952aa2   True\n",
       "..                                ...    ...\n",
       "781  d88c14f3513eeac07d96bf2247e590da  False\n",
       "782  d86ba8e778366f29d751212248a8b117  False\n",
       "783  77d311fd2f0fe6e7120e92efc00a3dc1  False\n",
       "784  d1e6b79eed2ed19f35c2bbc3bf3c7940   True\n",
       "785  39f1960e9fa6d6dee905f7380922d29d  False\n",
       "\n",
       "[786 rows x 2 columns]"
      ]
     },
     "execution_count": 31,
     "metadata": {},
     "output_type": "execute_result"
    }
   ],
   "source": [
    "sample_submission"
   ]
  },
  {
   "cell_type": "code",
   "execution_count": 32,
   "metadata": {},
   "outputs": [],
   "source": [
    "sample_submission.to_csv(r'C:\\Users\\orang\\Documents\\submission.csv', index = False)"
   ]
  },
  {
   "cell_type": "code",
   "execution_count": null,
   "metadata": {},
   "outputs": [],
   "source": []
  }
 ],
 "metadata": {
  "kernelspec": {
   "display_name": "Python 3",
   "language": "python",
   "name": "python3"
  },
  "language_info": {
   "codemirror_mode": {
    "name": "ipython",
    "version": 3
   },
   "file_extension": ".py",
   "mimetype": "text/x-python",
   "name": "python",
   "nbconvert_exporter": "python",
   "pygments_lexer": "ipython3",
   "version": "3.8.1"
  }
 },
 "nbformat": 4,
 "nbformat_minor": 4
}
